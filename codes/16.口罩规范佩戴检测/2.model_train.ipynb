{
 "cells": [
  {
   "cell_type": "code",
   "execution_count": 1,
   "id": "4366e1bd-8be0-436f-ba82-55d09b049963",
   "metadata": {},
   "outputs": [],
   "source": [
    "# 步骤\n",
    "# 1.读取NPZ文件\n",
    "# 2.onehot 独热编码\n",
    "# 3.分为train和test数据\n",
    "# 4.搭建CNN模型\n",
    "# 5.训练模型\n",
    "# 6.保存模型"
   ]
  },
  {
   "cell_type": "code",
   "execution_count": 2,
   "id": "049b570c-a09e-4a9b-9fff-bdd812295cb4",
   "metadata": {},
   "outputs": [],
   "source": [
    "## 1.读取NPZ文件"
   ]
  },
  {
   "cell_type": "code",
   "execution_count": 3,
   "id": "1df10642-1fc6-48d7-9a46-72b1e68a05b6",
   "metadata": {},
   "outputs": [],
   "source": [
    "import numpy as np"
   ]
  },
  {
   "cell_type": "code",
   "execution_count": 4,
   "id": "edee3c07-1dd3-49c9-81c4-fbf795316eca",
   "metadata": {},
   "outputs": [],
   "source": [
    "arr = np.load('./data/imageData.npz')"
   ]
  },
  {
   "cell_type": "code",
   "execution_count": 5,
   "id": "7fec28da-81d9-4453-b21a-4fa5b8b3e427",
   "metadata": {},
   "outputs": [],
   "source": [
    "img_list = arr['arr_0']\n",
    "label_list =arr['arr_1']"
   ]
  },
  {
   "cell_type": "code",
   "execution_count": 6,
   "id": "8db3df74-d44a-404e-bcb9-702f11588f00",
   "metadata": {},
   "outputs": [
    {
     "data": {
      "text/plain": [
       "((5320, 100, 100, 3), (5320,))"
      ]
     },
     "execution_count": 6,
     "metadata": {},
     "output_type": "execute_result"
    }
   ],
   "source": [
    "img_list.shape,label_list.shape"
   ]
  },
  {
   "cell_type": "markdown",
   "id": "ff46ad27-63f2-4492-bb12-8934881e9945",
   "metadata": {},
   "source": [
    "## 2.onehot 独热编码"
   ]
  },
  {
   "cell_type": "code",
   "execution_count": 7,
   "id": "3769249f-9b91-4250-9f17-67c0c0995d51",
   "metadata": {},
   "outputs": [
    {
     "data": {
      "text/plain": [
       "array(['1.yes', '2.no', '3.nose'], dtype='<U6')"
      ]
     },
     "execution_count": 7,
     "metadata": {},
     "output_type": "execute_result"
    }
   ],
   "source": [
    "np.unique(label_list)"
   ]
  },
  {
   "cell_type": "code",
   "execution_count": 8,
   "id": "cbfff54f-b02d-469e-8dc4-7282be6e63a2",
   "metadata": {},
   "outputs": [],
   "source": [
    "from sklearn.preprocessing import OneHotEncoder\n"
   ]
  },
  {
   "cell_type": "code",
   "execution_count": 9,
   "id": "b2965ab6-26d5-4ac9-91b6-b8707f197e7b",
   "metadata": {},
   "outputs": [],
   "source": [
    "# 实例化\n",
    "onehot = OneHotEncoder()"
   ]
  },
  {
   "cell_type": "code",
   "execution_count": 10,
   "id": "cc2983b6-5777-463c-9a3c-23adedd41d66",
   "metadata": {},
   "outputs": [],
   "source": [
    "# 编码\n",
    "y_onehot =onehot.fit_transform(label_list.reshape(-1,1))"
   ]
  },
  {
   "cell_type": "code",
   "execution_count": 11,
   "id": "3e964de2-f0b2-464e-a72b-243a0a1aef72",
   "metadata": {},
   "outputs": [],
   "source": [
    "y_onehot_arr = y_onehot.toarray()"
   ]
  },
  {
   "cell_type": "code",
   "execution_count": 12,
   "id": "f0e3974c-7e1a-4518-96bc-46a71793a7c1",
   "metadata": {},
   "outputs": [
    {
     "data": {
      "text/plain": [
       "array([[1., 0., 0.],\n",
       "       [1., 0., 0.],\n",
       "       [1., 0., 0.],\n",
       "       ...,\n",
       "       [0., 0., 1.],\n",
       "       [0., 0., 1.],\n",
       "       [0., 0., 1.]])"
      ]
     },
     "execution_count": 12,
     "metadata": {},
     "output_type": "execute_result"
    }
   ],
   "source": [
    "y_onehot_arr"
   ]
  },
  {
   "cell_type": "markdown",
   "id": "a152a5c1-c329-4d4f-91e7-14f05d2dbaa0",
   "metadata": {},
   "source": [
    "## 3.分为train和test数据"
   ]
  },
  {
   "cell_type": "code",
   "execution_count": 13,
   "id": "bef69e15-0dec-4ac7-a699-7e21eb7ae451",
   "metadata": {},
   "outputs": [],
   "source": [
    "from sklearn.model_selection import train_test_split"
   ]
  },
  {
   "cell_type": "code",
   "execution_count": 14,
   "id": "0b5a62ed-a92a-46a3-9c47-88c764f21276",
   "metadata": {},
   "outputs": [],
   "source": [
    "x_train,x_test,y_train,y_test = train_test_split(img_list,y_onehot_arr,test_size=0.2,random_state=42)"
   ]
  },
  {
   "cell_type": "code",
   "execution_count": 15,
   "id": "f7eb3e66-1aef-4c89-b08a-f70788780d6d",
   "metadata": {},
   "outputs": [
    {
     "data": {
      "text/plain": [
       "((4256, 100, 100, 3), (1064, 100, 100, 3), (4256, 3), (1064, 3))"
      ]
     },
     "execution_count": 15,
     "metadata": {},
     "output_type": "execute_result"
    }
   ],
   "source": [
    "x_train.shape,x_test.shape,y_train.shape,y_test.shape"
   ]
  },
  {
   "cell_type": "markdown",
   "id": "9c823396-16c1-4946-8d4e-922b1f351cfa",
   "metadata": {},
   "source": [
    "## 4.搭建CNN模型"
   ]
  },
  {
   "cell_type": "code",
   "execution_count": 16,
   "id": "cfbfe43a-3963-438f-8e5b-2a822027cc58",
   "metadata": {},
   "outputs": [],
   "source": [
    "# pip install --upgrade tensorflow\n",
    "# pip install tensorflow-gpu==版本号  # GPU"
   ]
  },
  {
   "cell_type": "code",
   "execution_count": 17,
   "id": "9dcfbacd-7eb8-466c-b339-ce8725df1f15",
   "metadata": {},
   "outputs": [],
   "source": [
    "import tensorflow as tf\n",
    "from tensorflow.keras import layers\n",
    "from tensorflow.keras import Sequential"
   ]
  },
  {
   "cell_type": "code",
   "execution_count": 18,
   "id": "0951823d-e22b-44c4-a8be-3042f3d2776b",
   "metadata": {},
   "outputs": [],
   "source": [
    "# 搭建模型"
   ]
  },
  {
   "cell_type": "markdown",
   "id": "7746310b-5770-4203-a35f-1e54263fad34",
   "metadata": {},
   "source": [
    "![](./cnn.png)"
   ]
  },
  {
   "cell_type": "code",
   "execution_count": 19,
   "id": "553fb02b-e7ec-4086-b985-8c57bddb550f",
   "metadata": {},
   "outputs": [],
   "source": [
    "model = Sequential([\n",
    "    layers.Conv2D(16,3,padding='same',input_shape=(100,100,3),activation='relu'),\n",
    "    layers.MaxPool2D(),\n",
    "    layers.Conv2D(32,3,padding='same',activation='relu'),\n",
    "    layers.MaxPool2D(),\n",
    "    layers.Conv2D(64,3,padding='same',activation='relu'),\n",
    "    layers.MaxPool2D(),\n",
    "    layers.Flatten(),\n",
    "    layers.Dense(166,activation='relu'),\n",
    "    layers.Dense(22,activation='relu'),\n",
    "    layers.Dense(3,activation='sigmoid')\n",
    "])"
   ]
  },
  {
   "cell_type": "code",
   "execution_count": 20,
   "id": "273b64be-fc07-4e17-ba3d-d03ebc195ccf",
   "metadata": {},
   "outputs": [],
   "source": [
    "# 编译模型\n",
    "model.compile(optimizer=tf.keras.optimizers.Adam(learning_rate=0.001),loss=tf.keras.losses.categorical_crossentropy,metrics=['accuracy'])"
   ]
  },
  {
   "cell_type": "code",
   "execution_count": 21,
   "id": "0ed94637-ba79-4a16-a87b-b71dc0af06bd",
   "metadata": {},
   "outputs": [
    {
     "name": "stdout",
     "output_type": "stream",
     "text": [
      "Model: \"sequential\"\n",
      "_________________________________________________________________\n",
      "Layer (type)                 Output Shape              Param #   \n",
      "=================================================================\n",
      "conv2d (Conv2D)              (None, 100, 100, 16)      448       \n",
      "_________________________________________________________________\n",
      "max_pooling2d (MaxPooling2D) (None, 50, 50, 16)        0         \n",
      "_________________________________________________________________\n",
      "conv2d_1 (Conv2D)            (None, 50, 50, 32)        4640      \n",
      "_________________________________________________________________\n",
      "max_pooling2d_1 (MaxPooling2 (None, 25, 25, 32)        0         \n",
      "_________________________________________________________________\n",
      "conv2d_2 (Conv2D)            (None, 25, 25, 64)        18496     \n",
      "_________________________________________________________________\n",
      "max_pooling2d_2 (MaxPooling2 (None, 12, 12, 64)        0         \n",
      "_________________________________________________________________\n",
      "flatten (Flatten)            (None, 9216)              0         \n",
      "_________________________________________________________________\n",
      "dense (Dense)                (None, 166)               1530022   \n",
      "_________________________________________________________________\n",
      "dense_1 (Dense)              (None, 22)                3674      \n",
      "_________________________________________________________________\n",
      "dense_2 (Dense)              (None, 3)                 69        \n",
      "=================================================================\n",
      "Total params: 1,557,349\n",
      "Trainable params: 1,557,349\n",
      "Non-trainable params: 0\n",
      "_________________________________________________________________\n"
     ]
    }
   ],
   "source": [
    "# 预览模型\n",
    "model.summary()"
   ]
  },
  {
   "cell_type": "markdown",
   "id": "4e8e4aad-4567-4b44-a7ec-720c10f3364e",
   "metadata": {},
   "source": [
    "## 5.训练模型"
   ]
  },
  {
   "cell_type": "code",
   "execution_count": 22,
   "id": "f66045ec-fd08-4da9-a792-e8f19ef3fea9",
   "metadata": {},
   "outputs": [
    {
     "name": "stdout",
     "output_type": "stream",
     "text": [
      "Epoch 1/15\n",
      "142/142 [==============================] - 4s 28ms/step - loss: 0.2084 - accuracy: 0.9328 - val_loss: 0.1120 - val_accuracy: 0.9633\n",
      "Epoch 2/15\n",
      "142/142 [==============================] - 4s 29ms/step - loss: 0.1136 - accuracy: 0.9645 - val_loss: 0.1333 - val_accuracy: 0.9605\n",
      "Epoch 3/15\n",
      "142/142 [==============================] - 4s 30ms/step - loss: 0.0831 - accuracy: 0.9734 - val_loss: 0.0672 - val_accuracy: 0.9756\n",
      "Epoch 4/15\n",
      "142/142 [==============================] - 4s 29ms/step - loss: 0.0608 - accuracy: 0.9791 - val_loss: 0.0577 - val_accuracy: 0.9859\n",
      "Epoch 5/15\n",
      "142/142 [==============================] - 4s 31ms/step - loss: 0.0474 - accuracy: 0.9850 - val_loss: 0.1064 - val_accuracy: 0.9737\n",
      "Epoch 6/15\n",
      "142/142 [==============================] - 4s 31ms/step - loss: 0.0485 - accuracy: 0.9821 - val_loss: 0.1245 - val_accuracy: 0.9699\n",
      "Epoch 7/15\n",
      "142/142 [==============================] - 4s 31ms/step - loss: 0.0300 - accuracy: 0.9922 - val_loss: 0.0745 - val_accuracy: 0.9803\n",
      "Epoch 8/15\n",
      "142/142 [==============================] - 4s 31ms/step - loss: 0.0281 - accuracy: 0.9892 - val_loss: 0.0916 - val_accuracy: 0.9803\n",
      "Epoch 9/15\n",
      "142/142 [==============================] - 4s 31ms/step - loss: 0.0189 - accuracy: 0.9944 - val_loss: 0.0874 - val_accuracy: 0.9821\n",
      "Epoch 10/15\n",
      "142/142 [==============================] - 4s 31ms/step - loss: 0.0086 - accuracy: 0.9969 - val_loss: 0.0893 - val_accuracy: 0.9850\n",
      "Epoch 11/15\n",
      "142/142 [==============================] - 4s 31ms/step - loss: 0.0071 - accuracy: 0.9969 - val_loss: 0.0698 - val_accuracy: 0.9840\n",
      "Epoch 12/15\n",
      "142/142 [==============================] - 4s 31ms/step - loss: 0.0340 - accuracy: 0.9885 - val_loss: 0.0833 - val_accuracy: 0.9774\n",
      "Epoch 13/15\n",
      "142/142 [==============================] - 4s 31ms/step - loss: 0.0185 - accuracy: 0.9937 - val_loss: 0.0588 - val_accuracy: 0.9821\n",
      "Epoch 14/15\n",
      "142/142 [==============================] - 4s 31ms/step - loss: 0.0052 - accuracy: 0.9981 - val_loss: 0.0940 - val_accuracy: 0.9831\n",
      "Epoch 15/15\n",
      "142/142 [==============================] - 4s 31ms/step - loss: 0.0022 - accuracy: 0.9988 - val_loss: 0.0805 - val_accuracy: 0.9831\n"
     ]
    }
   ],
   "source": [
    "history = model.fit(x=x_train,y=y_train,validation_data=(x_test,y_test),batch_size=30,epochs=15)"
   ]
  },
  {
   "cell_type": "code",
   "execution_count": 23,
   "id": "aa6917ca-24a1-4467-9946-f630a10664de",
   "metadata": {},
   "outputs": [],
   "source": [
    "# 查看训练效果\n"
   ]
  },
  {
   "cell_type": "code",
   "execution_count": 24,
   "id": "d7862087-4d13-4815-89bd-dd27a03d44f5",
   "metadata": {},
   "outputs": [],
   "source": [
    "import pandas as pd\n",
    "import matplotlib.pyplot as plt\n",
    "%matplotlib inline"
   ]
  },
  {
   "cell_type": "code",
   "execution_count": 25,
   "id": "487ca255-a28c-417b-bb13-32afca6cfd59",
   "metadata": {},
   "outputs": [],
   "source": [
    "history_pd = pd.DataFrame(history.history)"
   ]
  },
  {
   "cell_type": "code",
   "execution_count": 26,
   "id": "b2bf613f-abcc-43e0-84f1-ce595fb5b8e7",
   "metadata": {},
   "outputs": [
    {
     "data": {
      "text/html": [
       "<div>\n",
       "<style scoped>\n",
       "    .dataframe tbody tr th:only-of-type {\n",
       "        vertical-align: middle;\n",
       "    }\n",
       "\n",
       "    .dataframe tbody tr th {\n",
       "        vertical-align: top;\n",
       "    }\n",
       "\n",
       "    .dataframe thead th {\n",
       "        text-align: right;\n",
       "    }\n",
       "</style>\n",
       "<table border=\"1\" class=\"dataframe\">\n",
       "  <thead>\n",
       "    <tr style=\"text-align: right;\">\n",
       "      <th></th>\n",
       "      <th>loss</th>\n",
       "      <th>accuracy</th>\n",
       "      <th>val_loss</th>\n",
       "      <th>val_accuracy</th>\n",
       "    </tr>\n",
       "  </thead>\n",
       "  <tbody>\n",
       "    <tr>\n",
       "      <th>0</th>\n",
       "      <td>0.208449</td>\n",
       "      <td>0.932801</td>\n",
       "      <td>0.111963</td>\n",
       "      <td>0.963346</td>\n",
       "    </tr>\n",
       "    <tr>\n",
       "      <th>1</th>\n",
       "      <td>0.113573</td>\n",
       "      <td>0.964521</td>\n",
       "      <td>0.133309</td>\n",
       "      <td>0.960526</td>\n",
       "    </tr>\n",
       "    <tr>\n",
       "      <th>2</th>\n",
       "      <td>0.083130</td>\n",
       "      <td>0.973449</td>\n",
       "      <td>0.067184</td>\n",
       "      <td>0.975564</td>\n",
       "    </tr>\n",
       "    <tr>\n",
       "      <th>3</th>\n",
       "      <td>0.060772</td>\n",
       "      <td>0.979088</td>\n",
       "      <td>0.057737</td>\n",
       "      <td>0.985902</td>\n",
       "    </tr>\n",
       "    <tr>\n",
       "      <th>4</th>\n",
       "      <td>0.047358</td>\n",
       "      <td>0.984962</td>\n",
       "      <td>0.106374</td>\n",
       "      <td>0.973684</td>\n",
       "    </tr>\n",
       "    <tr>\n",
       "      <th>5</th>\n",
       "      <td>0.048464</td>\n",
       "      <td>0.982143</td>\n",
       "      <td>0.124503</td>\n",
       "      <td>0.969925</td>\n",
       "    </tr>\n",
       "    <tr>\n",
       "      <th>6</th>\n",
       "      <td>0.030027</td>\n",
       "      <td>0.992246</td>\n",
       "      <td>0.074485</td>\n",
       "      <td>0.980263</td>\n",
       "    </tr>\n",
       "    <tr>\n",
       "      <th>7</th>\n",
       "      <td>0.028132</td>\n",
       "      <td>0.989192</td>\n",
       "      <td>0.091613</td>\n",
       "      <td>0.980263</td>\n",
       "    </tr>\n",
       "    <tr>\n",
       "      <th>8</th>\n",
       "      <td>0.018942</td>\n",
       "      <td>0.994361</td>\n",
       "      <td>0.087360</td>\n",
       "      <td>0.982143</td>\n",
       "    </tr>\n",
       "    <tr>\n",
       "      <th>9</th>\n",
       "      <td>0.008612</td>\n",
       "      <td>0.996946</td>\n",
       "      <td>0.089328</td>\n",
       "      <td>0.984962</td>\n",
       "    </tr>\n",
       "    <tr>\n",
       "      <th>10</th>\n",
       "      <td>0.007086</td>\n",
       "      <td>0.996946</td>\n",
       "      <td>0.069840</td>\n",
       "      <td>0.984023</td>\n",
       "    </tr>\n",
       "    <tr>\n",
       "      <th>11</th>\n",
       "      <td>0.033996</td>\n",
       "      <td>0.988487</td>\n",
       "      <td>0.083327</td>\n",
       "      <td>0.977444</td>\n",
       "    </tr>\n",
       "    <tr>\n",
       "      <th>12</th>\n",
       "      <td>0.018451</td>\n",
       "      <td>0.993656</td>\n",
       "      <td>0.058819</td>\n",
       "      <td>0.982143</td>\n",
       "    </tr>\n",
       "    <tr>\n",
       "      <th>13</th>\n",
       "      <td>0.005190</td>\n",
       "      <td>0.998120</td>\n",
       "      <td>0.094030</td>\n",
       "      <td>0.983083</td>\n",
       "    </tr>\n",
       "    <tr>\n",
       "      <th>14</th>\n",
       "      <td>0.002152</td>\n",
       "      <td>0.998825</td>\n",
       "      <td>0.080528</td>\n",
       "      <td>0.983083</td>\n",
       "    </tr>\n",
       "  </tbody>\n",
       "</table>\n",
       "</div>"
      ],
      "text/plain": [
       "        loss  accuracy  val_loss  val_accuracy\n",
       "0   0.208449  0.932801  0.111963      0.963346\n",
       "1   0.113573  0.964521  0.133309      0.960526\n",
       "2   0.083130  0.973449  0.067184      0.975564\n",
       "3   0.060772  0.979088  0.057737      0.985902\n",
       "4   0.047358  0.984962  0.106374      0.973684\n",
       "5   0.048464  0.982143  0.124503      0.969925\n",
       "6   0.030027  0.992246  0.074485      0.980263\n",
       "7   0.028132  0.989192  0.091613      0.980263\n",
       "8   0.018942  0.994361  0.087360      0.982143\n",
       "9   0.008612  0.996946  0.089328      0.984962\n",
       "10  0.007086  0.996946  0.069840      0.984023\n",
       "11  0.033996  0.988487  0.083327      0.977444\n",
       "12  0.018451  0.993656  0.058819      0.982143\n",
       "13  0.005190  0.998120  0.094030      0.983083\n",
       "14  0.002152  0.998825  0.080528      0.983083"
      ]
     },
     "execution_count": 26,
     "metadata": {},
     "output_type": "execute_result"
    }
   ],
   "source": [
    "history_pd"
   ]
  },
  {
   "cell_type": "code",
   "execution_count": 27,
   "id": "9b5521e2-0320-449d-a9ff-083372c0c9eb",
   "metadata": {},
   "outputs": [
    {
     "data": {
      "image/png": "[encoded data removed]",
      "text/plain": [
       "<Figure size 432x288 with 1 Axes>"
      ]
     },
     "metadata": {
      "needs_background": "light"
     },
     "output_type": "display_data"
    }
   ],
   "source": [
    "# 查看损失\n",
    "plt.plot(history_pd['loss'])\n",
    "plt.plot(history_pd['val_loss'])\n",
    "plt.title('Model loss')\n",
    "plt.xlabel('epoch')\n",
    "plt.ylabel('loss')\n",
    "plt.legend(['train set','test set'],loc='upper right')\n",
    "plt.show()"
   ]
  },
  {
   "cell_type": "code",
   "execution_count": 28,
   "id": "30768bb3-ecc7-4eef-8333-d7a986b70bf6",
   "metadata": {},
   "outputs": [
    {
     "data": {
      "image/png": "[encoded data removed]",
      "text/plain": [
       "<Figure size 432x288 with 1 Axes>"
      ]
     },
     "metadata": {
      "needs_background": "light"
     },
     "output_type": "display_data"
    }
   ],
   "source": [
    "# 查看准确率\n",
    "plt.plot(history_pd['accuracy'])\n",
    "plt.plot(history_pd['val_accuracy'])\n",
    "plt.title('Model accuracy')\n",
    "plt.xlabel('epoch')\n",
    "plt.ylabel('loss')\n",
    "plt.legend(['train set','test set'],loc='upper right')\n",
    "plt.show()"
   ]
  },
  {
   "cell_type": "markdown",
   "id": "cce3fb13-de9e-4638-9eff-4eda886e971e",
   "metadata": {},
   "source": [
    "## 6.保存模型"
   ]
  },
  {
   "cell_type": "code",
   "execution_count": 29,
   "id": "5b7c12a3-a075-4627-8f97-ba558b0d9082",
   "metadata": {},
   "outputs": [
    {
     "name": "stdout",
     "output_type": "stream",
     "text": [
      "WARNING:tensorflow:From C:\\Users\\Administrator\\miniconda3\\envs\\tf_gpu\\lib\\site-packages\\tensorflow\\python\\training\\tracking\\tracking.py:111: Model.state_updates (from tensorflow.python.keras.engine.training) is deprecated and will be removed in a future version.\n",
      "Instructions for updating:\n",
      "This property should not be used in TensorFlow 2.0, as updates are applied automatically.\n",
      "WARNING:tensorflow:From C:\\Users\\Administrator\\miniconda3\\envs\\tf_gpu\\lib\\site-packages\\tensorflow\\python\\training\\tracking\\tracking.py:111: Layer.updates (from tensorflow.python.keras.engine.base_layer) is deprecated and will be removed in a future version.\n",
      "Instructions for updating:\n",
      "This property should not be used in TensorFlow 2.0, as updates are applied automatically.\n",
      "INFO:tensorflow:Assets written to: ./data/face_mask_model\\assets\n"
     ]
    }
   ],
   "source": [
    "model.save('./data/face_mask_model')"
   ]
  }
 ],
 "metadata": {
  "kernelspec": {
   "display_name": "Python 3 (ipykernel)",
   "language": "python",
   "name": "python3"
  },
  "language_info": {
   "codemirror_mode": {
    "name": "ipython",
    "version": 3
   },
   "file_extension": ".py",
   "mimetype": "text/x-python",
   "name": "python",
   "nbconvert_exporter": "python",
   "pygments_lexer": "ipython3",
   "version": "3.8.12"
  }
 },
 "nbformat": 4,
 "nbformat_minor": 5
}
