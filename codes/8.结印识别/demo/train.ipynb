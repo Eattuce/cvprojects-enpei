{
 "cells": [
  {
   "cell_type": "code",
   "execution_count": 1,
   "id": "e8c577f5-097b-4860-bdaf-bdf567d85775",
   "metadata": {},
   "outputs": [
    {
     "name": "stderr",
     "output_type": "stream",
     "text": [
      "Using backend: pytorch\n"
     ]
    }
   ],
   "source": [
    "import dgl\n",
    "import torch\n",
    "import torch.nn as nn\n",
    "import torch.nn.functional as F"
   ]
  },
  {
   "cell_type": "code",
   "execution_count": 2,
   "id": "3dbbec74-9105-4049-b298-654ce2064203",
   "metadata": {},
   "outputs": [],
   "source": [
    "\n",
    "from dgl.dataloading import GraphDataLoader\n",
    "from HandsDataSets import HandsData\n",
    "# 数据导入\n",
    "dataset = HandsData()\n",
    "# dataset.hello()\n",
    "\n",
    "# 创建 dataloaders\n",
    "dataloader = GraphDataLoader(dataset, batch_size=1, shuffle=True)\n"
   ]
  },
  {
   "cell_type": "code",
   "execution_count": null,
   "id": "a86103af-cb44-4a40-9081-790c172c010f",
   "metadata": {},
   "outputs": [],
   "source": []
  },
  {
   "cell_type": "code",
   "execution_count": 3,
   "id": "1788e0e0-d9e6-4d04-85e9-5f2c24670e2f",
   "metadata": {},
   "outputs": [],
   "source": [
    "from dgl.dataloading import GraphDataLoader\n",
    "from torch.utils.data.sampler import SubsetRandomSampler\n",
    "\n",
    "num_examples = len(dataset)\n",
    "num_train = int(num_examples * 0.8)\n",
    "\n",
    "train_sampler = SubsetRandomSampler(torch.arange(num_train))\n",
    "test_sampler = SubsetRandomSampler(torch.arange(num_train, num_examples))\n",
    "\n",
    "train_dataloader = GraphDataLoader(\n",
    "    dataset, sampler=train_sampler, batch_size=5, drop_last=False)\n",
    "test_dataloader = GraphDataLoader(\n",
    "    dataset, sampler=test_sampler, batch_size=5, drop_last=False)"
   ]
  },
  {
   "cell_type": "code",
   "execution_count": 4,
   "id": "11f567a5-5aaf-4858-abd7-89abf486c66c",
   "metadata": {},
   "outputs": [
    {
     "data": {
      "text/plain": [
       "2402"
      ]
     },
     "execution_count": 4,
     "metadata": {},
     "output_type": "execute_result"
    }
   ],
   "source": [
    "len(train_sampler)"
   ]
  },
  {
   "cell_type": "code",
   "execution_count": 5,
   "id": "6adbfb66-3090-4f63-92fc-1155af5cf74c",
   "metadata": {},
   "outputs": [
    {
     "name": "stdout",
     "output_type": "stream",
     "text": [
      "[Graph(num_nodes=210, num_edges=410,\n",
      "      ndata_schemes={'feat': Scheme(shape=(3,), dtype=torch.float64)}\n",
      "      edata_schemes={}), tensor([1, 2, 1, 0, 0])]\n"
     ]
    }
   ],
   "source": [
    "it = iter(train_dataloader)\n",
    "batch = next(it)\n",
    "print(batch)"
   ]
  },
  {
   "cell_type": "code",
   "execution_count": 6,
   "id": "aa1ebf73-2743-4a52-9b0d-4e26cd4826ce",
   "metadata": {},
   "outputs": [],
   "source": [
    "from dgl.nn import GraphConv\n",
    "\n",
    "\n",
    "# g = g.to('cuda')\n",
    "# model = GCN(g.ndata['feat'].shape[1], 16, dataset.num_classes).to('cuda')\n",
    "# train(g, model)\n",
    "\n",
    "\n",
    "\n",
    "class GCN(nn.Module):\n",
    "    def __init__(self, in_feats, h_feats, num_classes):\n",
    "        super(GCN, self).__init__()\n",
    "        self.conv1 = GraphConv(in_feats, h_feats)\n",
    "        self.conv2 = GraphConv(h_feats, num_classes)\n",
    "\n",
    "    def forward(self, g, in_feat):\n",
    "        h = self.conv1(g, in_feat)\n",
    "        h = F.relu(h)\n",
    "        h = self.conv2(g, h)\n",
    "        g.ndata['h'] = h\n",
    "        return dgl.mean_nodes(g, 'h')"
   ]
  },
  {
   "cell_type": "code",
   "execution_count": 7,
   "id": "88a355da-46ea-4083-a0db-64ed39246783",
   "metadata": {},
   "outputs": [
    {
     "data": {
      "text/plain": [
       "3"
      ]
     },
     "execution_count": 7,
     "metadata": {},
     "output_type": "execute_result"
    }
   ],
   "source": [
    "dataset.num_labels"
   ]
  },
  {
   "cell_type": "code",
   "execution_count": 8,
   "id": "6f8635c8-c69e-477d-8b17-d7625aa45a5a",
   "metadata": {},
   "outputs": [
    {
     "name": "stdout",
     "output_type": "stream",
     "text": [
      "Epoch 0, loss 3.0179\n",
      "Epoch 1, loss 0.0797\n",
      "Epoch 2, loss 0.0342\n",
      "Epoch 3, loss 0.0200\n",
      "Epoch 4, loss 0.0124\n",
      "Epoch 5, loss 0.0075\n",
      "Epoch 6, loss 0.0053\n",
      "Epoch 7, loss 0.0040\n",
      "Epoch 8, loss 0.0030\n",
      "Epoch 9, loss 0.0023\n",
      "Epoch 10, loss 0.0018\n",
      "Epoch 11, loss 0.0015\n",
      "Epoch 12, loss 0.0011\n",
      "Epoch 13, loss 0.0009\n",
      "Epoch 14, loss 0.0007\n",
      "Epoch 15, loss 0.0006\n",
      "Epoch 16, loss 0.0005\n",
      "Epoch 17, loss 0.0004\n",
      "Epoch 18, loss 0.0003\n",
      "Epoch 19, loss 0.0003\n",
      "Epoch 20, loss 0.0002\n",
      "Epoch 21, loss 0.0001\n",
      "Epoch 22, loss 0.0001\n",
      "Epoch 23, loss 0.0001\n",
      "Epoch 24, loss 0.0001\n",
      "Epoch 25, loss 0.0001\n",
      "Epoch 26, loss 0.0001\n",
      "Epoch 27, loss 0.0000\n",
      "Epoch 28, loss 0.0001\n",
      "Epoch 29, loss 0.0001\n",
      "Epoch 30, loss 0.0000\n",
      "Epoch 31, loss 0.0000\n",
      "Epoch 32, loss 0.0000\n",
      "Epoch 33, loss 0.0000\n",
      "Epoch 34, loss 0.0000\n",
      "Epoch 35, loss 0.0000\n",
      "Epoch 36, loss 0.0000\n",
      "Epoch 37, loss 0.0000\n",
      "Epoch 38, loss 0.0000\n",
      "Epoch 39, loss 0.0000\n",
      "Epoch 40, loss 0.0000\n",
      "Epoch 41, loss 0.0000\n",
      "Epoch 42, loss 0.0000\n",
      "Epoch 43, loss 0.0000\n",
      "Epoch 44, loss 0.0000\n",
      "Epoch 45, loss 0.0000\n",
      "Epoch 46, loss 0.0000\n",
      "Epoch 47, loss 0.0000\n",
      "Epoch 48, loss 0.0000\n",
      "Epoch 49, loss 0.0000\n"
     ]
    }
   ],
   "source": [
    "# Create the model with given dimensions\n",
    "model = GCN(3, 16, dataset.num_labels)\n",
    "optimizer = torch.optim.Adam(model.parameters(), lr=0.001)\n",
    "\n",
    "epoch_losses = []\n",
    "for epoch in range(50):\n",
    "    epoch_loss = 0\n",
    "    for iter,(batched_graph, labels) in enumerate(train_dataloader):\n",
    "\n",
    "        # Use the first GPU\n",
    "        device = torch.device(\"cuda:0\")\n",
    "        batched_graph = batched_graph.to(device)\n",
    "        model = model.to(device)\n",
    "        labels = labels.to(device)\n",
    "        pred = model(batched_graph, batched_graph.ndata['feat'].float())\n",
    "        loss = F.cross_entropy(pred, labels)\n",
    "        optimizer.zero_grad()\n",
    "        loss.backward()\n",
    "        optimizer.step()\n",
    "        epoch_loss += loss.detach().item()\n",
    "    epoch_loss /= (iter + 1)\n",
    "    print('Epoch {}, loss {:.4f}'.format(epoch, epoch_loss))\n",
    "    epoch_losses.append(epoch_loss)\n",
    "\n"
   ]
  },
  {
   "cell_type": "code",
   "execution_count": 9,
   "id": "1998bec8-d0f3-40c1-b30e-b35db4c1c0e8",
   "metadata": {},
   "outputs": [
    {
     "name": "stdout",
     "output_type": "stream",
     "text": [
      "Test accuracy: 0.9983361064891847\n"
     ]
    }
   ],
   "source": [
    "\n",
    "num_correct = 0\n",
    "num_tests = 0\n",
    "for batched_graph, labels in test_dataloader:\n",
    "    device = torch.device(\"cuda:0\")\n",
    "    batched_graph = batched_graph.to(device)\n",
    "    model = model.to(device)\n",
    "    labels = labels.to(device)\n",
    "    pred = model(batched_graph, batched_graph.ndata['feat'].float())\n",
    "    num_correct += (pred.argmax(1) == labels).sum().item()\n",
    "    num_tests += len(labels)\n",
    "    # print(pred)\n",
    "\n",
    "print('Test accuracy:', num_correct / num_tests)"
   ]
  },
  {
   "cell_type": "code",
   "execution_count": 10,
   "id": "d587ff15-119e-49bc-8383-7f1f27868bbf",
   "metadata": {},
   "outputs": [
    {
     "data": {
      "image/png": "[encoded data removed]",
      "text/plain": [
       "<Figure size 432x288 with 1 Axes>"
      ]
     },
     "metadata": {
      "needs_background": "light"
     },
     "output_type": "display_data"
    }
   ],
   "source": [
    "import matplotlib.pyplot as plt\n",
    "plt.title('cross entropy averaged over minibatches')\n",
    "plt.plot(epoch_losses)\n",
    "plt.show()\n"
   ]
  },
  {
   "cell_type": "code",
   "execution_count": 11,
   "id": "5b180d56-a4c0-4212-8dd8-6ac1cbc38a9e",
   "metadata": {},
   "outputs": [],
   "source": [
    "torch.save(model.state_dict(), './saveModel/handsModel.pth')"
   ]
  },
  {
   "cell_type": "code",
   "execution_count": null,
   "id": "6e8a7c9b-cba5-4619-b7fa-a8e29d41dc4d",
   "metadata": {},
   "outputs": [],
   "source": []
  }
 ],
 "metadata": {
  "kernelspec": {
   "display_name": "Python 3 (ipykernel)",
   "language": "python",
   "name": "python3"
  },
  "language_info": {
   "codemirror_mode": {
    "name": "ipython",
    "version": 3
   },
   "file_extension": ".py",
   "mimetype": "text/x-python",
   "name": "python",
   "nbconvert_exporter": "python",
   "pygments_lexer": "ipython3",
   "version": "3.7.11"
  }
 },
 "nbformat": 4,
 "nbformat_minor": 5
}
